{
 "cells": [
  {
   "cell_type": "markdown",
   "metadata": {},
   "source": [
    "# Exercise 4: Population data analysis\n",
    "\n",
    "**Name**:\n",
    "\n",
    "**Student number**:\n",
    "\n",
    "**Semester**:\n",
    "\n",
    "Please, first run the code below. It will import all modules and libraries for this exercise."
   ]
  },
  {
   "cell_type": "code",
   "execution_count": null,
   "metadata": {},
   "outputs": [],
   "source": [
    "# necessary imports\n",
    "import numpy as np\n",
    "print(\"Numpy version: \", np.__version__)\n",
    "from numpy import random\n",
    "%matplotlib inline\n",
    "import matplotlib\n",
    "from matplotlib import pyplot as plt\n",
    "plt.rcParams['figure.figsize'] = [9, 6]\n",
    "print(\"Matplotlib version: \", matplotlib.__version__)\n",
    "import pandas as pd\n",
    "print(\"Pandas version: \", pd.__version__)\n",
    "import sklearn\n",
    "import sklearn.neighbors\n",
    "print(\"sklearn version: \", sklearn.__version__)"
   ]
  },
  {
   "cell_type": "markdown",
   "metadata": {},
   "source": [
    "## Part 1: Plotting and basic analysis of the dataset\n",
    "\n",
    "Population data can be loaded as a pandas dataframe in the same way as the time series data in the earlier exercises. To load from a csv file, use the [`pandas.read_csv`](https://pandas.pydata.org/docs/reference/api/pandas.read_csv.html) method again.\n",
    "\n",
    "For plotting the raw data, the following approaches can be considered:\n",
    "- Simple plot: If you have a single variable per individual, a good way to investigate the data is to plot the sorted values. You can sort an array with the [`numpy.sort`](https://numpy.org/doc/stable/reference/generated/numpy.sort.html) method. For plotting, you can use a command similar to `ax.plot(data_sorted, '.')` to just plot the sequentially sorted values.\n",
    "- Scatter plot: If you have multiple variables per individual in the dataset, you can generate a scatter plot by plotting one variable vs. another one. This is also possible with categorial data, the points will then be grouped into the categories!\n",
    "- Line plots are best created with two `plot` commands: one to plot the actual lines, another one to plot the points, for example with a plotstyle 'bo' (`ax.plot(x, y, 'bo')`).\n",
    "- Box plots are useful if you have a variable with multiple categories. The relevant documentation is at https://matplotlib.org/stable/api/_as_gen/matplotlib.pyplot.boxplot.html. You can also follow the example code given at the end of the documentation.\n",
    "\n",
    "### Task 1: \n",
    "- Load your population dataset into a pandas dataframe and check the resulting dataframe (print).\n",
    "- Experiment with different ways to plot your data and discuss their pros and cons for this dataset.\n",
    "- Compute some summary statistics (mean, standard deviation, and if relevant, covariance or correlation coefficients). You can use either the numpy methods [`numpy.mean`](https://numpy.org/doc/stable/reference/generated/numpy.mean.html), [`numpy.std`](https://numpy.org/doc/stable/reference/generated/numpy.std.html), [`numpy.corrcoef`](https://numpy.org/doc/stable/reference/generated/numpy.corrcoef.html), or their pandas equivalents."
   ]
  },
  {
   "cell_type": "code",
   "execution_count": null,
   "metadata": {},
   "outputs": [],
   "source": [
    "# TODO"
   ]
  },
  {
   "cell_type": "markdown",
   "metadata": {},
   "source": [
    "### Discussion of the plots\n",
    "\n",
    "**TODO**: \n",
    " "
   ]
  },
  {
   "cell_type": "markdown",
   "metadata": {},
   "source": [
    "### Summary statistics"
   ]
  },
  {
   "cell_type": "code",
   "execution_count": null,
   "metadata": {},
   "outputs": [],
   "source": [
    "# TODO"
   ]
  },
  {
   "cell_type": "markdown",
   "metadata": {},
   "source": [
    "## Part 2: Density estimation\n",
    "\n",
    "In this part, the objective is to perform density estimation on your dataset, comparing different methods to obtain an estimate of the density function.\n",
    "\n",
    "The following methods should be compared:\n",
    "- histogram\n",
    "- naive estimator\n",
    "- kernel density estimator with Gaussian or other kernel\n",
    "\n",
    "**Histograms** can be plotted directly with `matplotlib`, using the function [`pyplot.hist`](https://matplotlib.org/stable/api/_as_gen/matplotlib.pyplot.hist.html). Also, if you create an `Axes` object with for example a call to `pyplot.subplots()`, you can use the equivalent [`Axes.hist`](https://matplotlib.org/stable/api/_as_gen/matplotlib.axes.Axes.hist.html) method.\n",
    "\n",
    "**Density estimation** should be performed with the package `sklearn`. A brief introduction to the methodology is given at https://scikit-learn.org/stable/modules/density.html (also check the examples at the end of that page). Briefly, the analysis and plotting should proceed as follows:\n",
    "- Create a [`KernelDensity`](https://scikit-learn.org/stable/modules/generated/sklearn.neighbors.KernelDensity.html) with the desired kernel and bandwidth choice.\n",
    "- Fit the kernel density estimator to your dataset by calling the [`KernelDensity.fit`](https://scikit-learn.org/stable/modules/generated/sklearn.neighbors.KernelDensity.html#sklearn.neighbors.KernelDensity.fit) method from the created `KernelDensity` object with your dataset as an argument. The `.fit` method assumes that the dataset is a 2-dimensional numpy array with the individuals in the rows and the variables measured per individual in the columns. When fitting a column of a pandas dataframe, the recommended method to transform the data into that form is to access it as `df['column'].to_numpy().reshape(-1, 1)`, where `df` is the variable name of the dataframe and `column` is the identifier of the column you want to use.\n",
    "- For plotting, you have to evaluate the estimated density function with the method [`KernelDensity.score_samples`](https://scikit-learn.org/stable/modules/generated/sklearn.neighbors.KernelDensity.html#sklearn.neighbors.KernelDensity.score_samples). The method takes the variable values at which the density function should be evaluated as arguments, which can for example be generated with the [`numpy.linspace`](https://numpy.org/doc/stable/reference/generated/numpy.linspace.html) method. This needs to be brought into the same format as for the fitting, which can be done for example by `np.linspace(start, stop).reshape(-1, 1)`. Also, `score_samples` returns the natural logarithm of the density function, so before plotting, the result of the `score_samples` method has to be passed through the [`numpy.exp`](https://numpy.org/doc/stable/reference/generated/numpy.exp.html) function.\n",
    "- Note that the density estimators in `sklearn` create a normalized estimate, similar to a probability distribution, where the area under the estimated function is equal to 1. To get the correct scale on the y-axis, you have to multiply the obtained values with the population size (number of individuals).\n",
    "\n",
    "### Task 2: Density estimation\n",
    "- Plot histograms of your dataset with different numbers of bins. Discuss the effect of the bin number on the result. What is a good choice for the number of bins, and which bin width does this correspond to?\n",
    "- Perform density estimation with a naive estimator (implemented as `tophat` kernel in `sklearn`) and one other kernel function, for example a Gaussian kernel, and plot the result. Investigate the effect of the bandwidth parameter on the estimation result. What is a good choice for the bandwidth value for each of the kernels? If you do not indicate a bandwidth parameter when constructing the `KernelDensity` object, what does `sklearn` do?"
   ]
  },
  {
   "cell_type": "code",
   "execution_count": null,
   "metadata": {},
   "outputs": [],
   "source": [
    "# TODO\n",
    "kde = sklearn.neighbors.KernelDensity(...)\n",
    "kde.fit(...)"
   ]
  },
  {
   "cell_type": "markdown",
   "metadata": {},
   "source": [
    "#### Discussion\n",
    "\n",
    "TODO"
   ]
  },
  {
   "cell_type": "markdown",
   "metadata": {},
   "source": [
    "### Task 3: Comparison to a normal distribution\n",
    "\n",
    "Compare one of the estimates you obtained above to a normal distribution with the appropriate mean and standard deviation, as computed in Task 1, by plotting them in a joint diagram. The probability density function for a normal distribution is given by\n",
    "\n",
    "$p(x) = \\frac{1}{\\sigma \\sqrt{2\\pi}}e^{(-\\frac{(x-\\mu)^2}{2\\sigma^2})}$,\n",
    "\n",
    "where $\\sigma$ is the standard deviation and $\\mu$ the mean. In Python, it's best to evaluate this with numpy on an array of $x$-values as\n",
    "\n",
    "`np.exp(-(x-mu)**2 / 2 / sigma**2) / sigma / np.sqrt(2 * np.pi)`"
   ]
  },
  {
   "cell_type": "code",
   "execution_count": null,
   "metadata": {},
   "outputs": [],
   "source": [
    "# TODO"
   ]
  },
  {
   "cell_type": "code",
   "execution_count": null,
   "metadata": {},
   "outputs": [],
   "source": []
  }
 ],
 "metadata": {
  "kernelspec": {
   "display_name": "Python 3",
   "language": "python",
   "name": "python3"
  },
  "language_info": {
   "codemirror_mode": {
    "name": "ipython",
    "version": 3
   },
   "file_extension": ".py",
   "mimetype": "text/x-python",
   "name": "python",
   "nbconvert_exporter": "python",
   "pygments_lexer": "ipython3",
   "version": "3.7.6"
  },
  "vscode": {
   "interpreter": {
    "hash": "9b915c1e8519984f5c2cc39f643b09545a3d456cdd86028d3d390b2173d2860f"
   }
  }
 },
 "nbformat": 4,
 "nbformat_minor": 2
}
